{
 "cells": [
  {
   "cell_type": "code",
   "execution_count": 1,
   "metadata": {},
   "outputs": [],
   "source": [
    "import os\n",
    "import numpy as np\n",
    "import pandas as pd\n",
    "import json\n",
    "from pandas.io.json import json_normalize\n",
    "from ast import literal_eval\n",
    "import random\n",
    "import time\n",
    "import matplotlib.pyplot as plt"
   ]
  },
  {
   "cell_type": "code",
   "execution_count": 2,
   "metadata": {},
   "outputs": [],
   "source": [
    "def feature_encode(df):\n",
    "    categorical = ['channelGrouping',\n",
    "                 'device.deviceCategory',\n",
    "                 'device.operatingSystem',\n",
    "                 'geoNetwork.continent',\n",
    "                 'geoNetwork.country',\n",
    "                 'geoNetwork.region',\n",
    "                 'trafficSource.adContent',\n",
    "                 'trafficSource.adwordsClickInfo.adNetworkType',\n",
    "                 'trafficSource.adwordsClickInfo.slot',\n",
    "                 'trafficSource.campaign',\n",
    "                 'trafficSource.keyword',\n",
    "                 'trafficSource.source',\n",
    "                 'contentGroup.contentGroup2',\n",
    "                 'contentGroup.contentGroup3',\n",
    "                 'eventInfo.eventAction',\n",
    "                 'Year',\n",
    "                 'Month',\n",
    "                 'Day',\n",
    "                 'is_holiday',\n",
    "                 'device_browser',\n",
    "                 'is_inbasket',\n",
    "                 'is_discountad']\n",
    "    numeric = ['visitNumber',\n",
    "             'totals.bounces',\n",
    "             'totals.hits',\n",
    "             'totals.newVisits',\n",
    "             'totals.pageviews',\n",
    "             'totals.sessionQualityDim',\n",
    "             'totals.timeOnSite',\n",
    "             'totals.transactions',\n",
    "             'trafficSource.adwordsClickInfo.page']\n",
    "    \n",
    "    floatcol = ['totals.totalTransactionRevenue',\n",
    "             'totals.transactionRevenue']\n",
    "    \n",
    "    for each in categorical:\n",
    "        df[each] = df[each].astype('category')\n",
    "    \n",
    "    for each in numeric:\n",
    "        df[each] = df[each].astype('float32')\n",
    "    \n",
    "    for each in floatcol:\n",
    "        df[each] = df[each].astype('float')\n",
    "    \n",
    "    return df"
   ]
  },
  {
   "cell_type": "code",
   "execution_count": 3,
   "metadata": {},
   "outputs": [
    {
     "name": "stderr",
     "output_type": "stream",
     "text": [
      "C:\\Users\\samarth\\Anaconda3\\lib\\site-packages\\IPython\\core\\interactiveshell.py:2785: DtypeWarning: Columns (2) have mixed types. Specify dtype option on import or set low_memory=False.\n",
      "  interactivity=interactivity, compiler=compiler, result=result)\n",
      "C:\\Users\\samarth\\Anaconda3\\lib\\site-packages\\IPython\\core\\interactiveshell.py:2785: DtypeWarning: Columns (26) have mixed types. Specify dtype option on import or set low_memory=False.\n",
      "  interactivity=interactivity, compiler=compiler, result=result)\n"
     ]
    }
   ],
   "source": [
    "train12 = pd.read_csv('Data/train/train12.csv', index_col=0)\n",
    "train13 = pd.read_csv('Data/train/train13.csv', index_col=0)\n",
    "train14 = pd.read_csv('Data/train/train14.csv', index_col=0)\n",
    "\n",
    "train15 = pd.read_csv('Data/train/train15.csv', index_col=0)\n",
    "train16 = pd.read_csv('Data/train/train16.csv', index_col=0)\n",
    "train17 = pd.read_csv('Data/train/train17.csv', index_col=0)\n",
    "train18 = pd.read_csv('Data/train/train18.csv', index_col=0)"
   ]
  },
  {
   "cell_type": "code",
   "execution_count": 4,
   "metadata": {},
   "outputs": [
    {
     "name": "stdout",
     "output_type": "stream",
     "text": [
      "(299997, 34)\n",
      "(308351, 34)\n"
     ]
    }
   ],
   "source": [
    "val = pd.concat([train12, train13, train14])\n",
    "print(val.shape)\n",
    "\n",
    "test = pd.concat([train15, train16, train17, train18])\n",
    "print(test.shape)"
   ]
  },
  {
   "cell_type": "code",
   "execution_count": 5,
   "metadata": {},
   "outputs": [],
   "source": [
    "val = feature_encode(val)\n",
    "test = feature_encode(test)"
   ]
  },
  {
   "cell_type": "code",
   "execution_count": 6,
   "metadata": {},
   "outputs": [
    {
     "name": "stdout",
     "output_type": "stream",
     "text": [
      "<class 'pandas.core.frame.DataFrame'>\n",
      "Int64Index: 299997 entries, 0 to 99998\n",
      "Data columns (total 34 columns):\n",
      "channelGrouping                                 299997 non-null category\n",
      "fullVisitorId                                   299997 non-null object\n",
      "visitNumber                                     299997 non-null float32\n",
      "device.deviceCategory                           299997 non-null category\n",
      "device.operatingSystem                          297940 non-null category\n",
      "geoNetwork.continent                            299559 non-null category\n",
      "geoNetwork.country                              299559 non-null category\n",
      "geoNetwork.region                               127962 non-null category\n",
      "totals.bounces                                  299997 non-null float32\n",
      "totals.hits                                     299997 non-null float32\n",
      "totals.newVisits                                299997 non-null float32\n",
      "totals.pageviews                                299953 non-null float32\n",
      "totals.sessionQualityDim                        168470 non-null float32\n",
      "totals.timeOnSite                               144320 non-null float32\n",
      "totals.totalTransactionRevenue                  299997 non-null float64\n",
      "totals.transactionRevenue                       299997 non-null float64\n",
      "totals.transactions                             299997 non-null float32\n",
      "trafficSource.adContent                         14770 non-null category\n",
      "trafficSource.adwordsClickInfo.adNetworkType    17215 non-null category\n",
      "trafficSource.adwordsClickInfo.page             17215 non-null float32\n",
      "trafficSource.adwordsClickInfo.slot             17215 non-null category\n",
      "trafficSource.campaign                          22336 non-null category\n",
      "trafficSource.keyword                           19368 non-null category\n",
      "trafficSource.source                            299979 non-null category\n",
      "contentGroup.contentGroup2                      107065 non-null category\n",
      "contentGroup.contentGroup3                      5884 non-null category\n",
      "eventInfo.eventAction                           767 non-null category\n",
      "Year                                            299997 non-null category\n",
      "Month                                           299997 non-null category\n",
      "Day                                             299997 non-null category\n",
      "is_holiday                                      299997 non-null category\n",
      "device_browser                                  299997 non-null category\n",
      "is_inbasket                                     299997 non-null category\n",
      "is_discountad                                   299997 non-null category\n",
      "dtypes: category(22), float32(9), float64(2), object(1)\n",
      "memory usage: 27.0+ MB\n"
     ]
    }
   ],
   "source": [
    "val.info()"
   ]
  },
  {
   "cell_type": "code",
   "execution_count": 7,
   "metadata": {},
   "outputs": [],
   "source": [
    "val.to_csv('Data/val_df.csv', index=False)\n",
    "test.to_csv('Data/test_df.csv', index=False)"
   ]
  }
 ],
 "metadata": {
  "kernelspec": {
   "display_name": "Python 3",
   "language": "python",
   "name": "python3"
  },
  "language_info": {
   "codemirror_mode": {
    "name": "ipython",
    "version": 3
   },
   "file_extension": ".py",
   "mimetype": "text/x-python",
   "name": "python",
   "nbconvert_exporter": "python",
   "pygments_lexer": "ipython3",
   "version": "3.7.0"
  }
 },
 "nbformat": 4,
 "nbformat_minor": 2
}
