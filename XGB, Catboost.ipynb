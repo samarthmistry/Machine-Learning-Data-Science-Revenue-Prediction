{
 "cells": [
  {
   "cell_type": "code",
   "execution_count": 1,
   "metadata": {},
   "outputs": [],
   "source": [
    "import os\n",
    "import numpy as np\n",
    "import pandas as pd\n",
    "# import json\n",
    "# from pandas.io.json import json_normalize\n",
    "# from ast import literal_eval\n",
    "import random\n",
    "import time\n",
    "import matplotlib.pyplot as plt"
   ]
  },
  {
   "cell_type": "code",
   "execution_count": 20,
   "metadata": {},
   "outputs": [],
   "source": [
    "def feature_encode(df):\n",
    "    categorical = ['channelGrouping',\n",
    "                 'device.deviceCategory',\n",
    "                 'device.operatingSystem',\n",
    "                 'geoNetwork.continent',\n",
    "                 'geoNetwork.country',\n",
    "                 'geoNetwork.region',\n",
    "                 'trafficSource.adContent',\n",
    "                 'trafficSource.adwordsClickInfo.adNetworkType',\n",
    "                 'trafficSource.adwordsClickInfo.slot',\n",
    "                 'trafficSource.campaign',\n",
    "                 'trafficSource.keyword',\n",
    "                 'trafficSource.source',\n",
    "                 'contentGroup.contentGroup2',\n",
    "                 'contentGroup.contentGroup3',\n",
    "                 'eventInfo.eventAction',\n",
    "                 'Year',\n",
    "                 'Month',\n",
    "                 'Day',\n",
    "                 'is_holiday',\n",
    "                 'device_browser',\n",
    "                 'is_inbasket',\n",
    "                 'is_discountad']\n",
    "    numeric = ['visitNumber',\n",
    "             'totals.bounces',\n",
    "             'totals.hits',\n",
    "             'totals.newVisits',\n",
    "             'totals.pageviews',\n",
    "             'totals.sessionQualityDim',\n",
    "             'totals.timeOnSite',\n",
    "             'totals.transactions',\n",
    "             'trafficSource.adwordsClickInfo.page']\n",
    "    \n",
    "    floatcol = ['totals.totalTransactionRevenue',\n",
    "             'totals.transactionRevenue']\n",
    "    \n",
    "    for each in categorical:\n",
    "        df[each] = df[each].astype('category')\n",
    "    \n",
    "    for each in categorical:\n",
    "        df[each] = df[each].cat.codes\n",
    "    \n",
    "    for each in numeric:\n",
    "        df[each] = df[each].astype('float32')\n",
    "    \n",
    "    for each in floatcol:\n",
    "        df[each] = df[each].astype('float')\n",
    "    \n",
    "    return df"
   ]
  },
  {
   "cell_type": "code",
   "execution_count": 2,
   "metadata": {},
   "outputs": [
    {
     "name": "stderr",
     "output_type": "stream",
     "text": [
      "C:\\Users\\samarth\\Anaconda3\\lib\\site-packages\\IPython\\core\\interactiveshell.py:2785: DtypeWarning: Columns (1) have mixed types. Specify dtype option on import or set low_memory=False.\n",
      "  interactivity=interactivity, compiler=compiler, result=result)\n"
     ]
    },
    {
     "data": {
      "text/html": [
       "<div>\n",
       "<style scoped>\n",
       "    .dataframe tbody tr th:only-of-type {\n",
       "        vertical-align: middle;\n",
       "    }\n",
       "\n",
       "    .dataframe tbody tr th {\n",
       "        vertical-align: top;\n",
       "    }\n",
       "\n",
       "    .dataframe thead th {\n",
       "        text-align: right;\n",
       "    }\n",
       "</style>\n",
       "<table border=\"1\" class=\"dataframe\">\n",
       "  <thead>\n",
       "    <tr style=\"text-align: right;\">\n",
       "      <th></th>\n",
       "      <th>channelGrouping</th>\n",
       "      <th>fullVisitorId</th>\n",
       "      <th>visitNumber</th>\n",
       "      <th>device.deviceCategory</th>\n",
       "      <th>device.operatingSystem</th>\n",
       "      <th>geoNetwork.continent</th>\n",
       "      <th>geoNetwork.country</th>\n",
       "      <th>geoNetwork.region</th>\n",
       "      <th>totals.bounces</th>\n",
       "      <th>totals.hits</th>\n",
       "      <th>...</th>\n",
       "      <th>contentGroup.contentGroup2</th>\n",
       "      <th>contentGroup.contentGroup3</th>\n",
       "      <th>eventInfo.eventAction</th>\n",
       "      <th>Year</th>\n",
       "      <th>Month</th>\n",
       "      <th>Day</th>\n",
       "      <th>is_holiday</th>\n",
       "      <th>device_browser</th>\n",
       "      <th>is_inbasket</th>\n",
       "      <th>is_discountad</th>\n",
       "    </tr>\n",
       "  </thead>\n",
       "  <tbody>\n",
       "    <tr>\n",
       "      <th>0</th>\n",
       "      <td>Organic Search</td>\n",
       "      <td>3162355547410993243</td>\n",
       "      <td>1.0</td>\n",
       "      <td>desktop</td>\n",
       "      <td>Windows</td>\n",
       "      <td>Europe</td>\n",
       "      <td>Germany</td>\n",
       "      <td>NaN</td>\n",
       "      <td>1.0</td>\n",
       "      <td>1.0</td>\n",
       "      <td>...</td>\n",
       "      <td>Bags</td>\n",
       "      <td>NaN</td>\n",
       "      <td>NaN</td>\n",
       "      <td>2017</td>\n",
       "      <td>10</td>\n",
       "      <td>16</td>\n",
       "      <td>0</td>\n",
       "      <td>Firefox</td>\n",
       "      <td>0</td>\n",
       "      <td>0</td>\n",
       "    </tr>\n",
       "    <tr>\n",
       "      <th>1</th>\n",
       "      <td>Referral</td>\n",
       "      <td>8934116514970143966</td>\n",
       "      <td>6.0</td>\n",
       "      <td>desktop</td>\n",
       "      <td>Chrome OS</td>\n",
       "      <td>Americas</td>\n",
       "      <td>United States</td>\n",
       "      <td>California</td>\n",
       "      <td>0.0</td>\n",
       "      <td>2.0</td>\n",
       "      <td>...</td>\n",
       "      <td>NaN</td>\n",
       "      <td>NaN</td>\n",
       "      <td>NaN</td>\n",
       "      <td>2017</td>\n",
       "      <td>10</td>\n",
       "      <td>16</td>\n",
       "      <td>0</td>\n",
       "      <td>Chrome</td>\n",
       "      <td>0</td>\n",
       "      <td>0</td>\n",
       "    </tr>\n",
       "    <tr>\n",
       "      <th>2</th>\n",
       "      <td>Direct</td>\n",
       "      <td>7992466427990357681</td>\n",
       "      <td>1.0</td>\n",
       "      <td>mobile</td>\n",
       "      <td>Android</td>\n",
       "      <td>Americas</td>\n",
       "      <td>United States</td>\n",
       "      <td>NaN</td>\n",
       "      <td>0.0</td>\n",
       "      <td>2.0</td>\n",
       "      <td>...</td>\n",
       "      <td>NaN</td>\n",
       "      <td>NaN</td>\n",
       "      <td>NaN</td>\n",
       "      <td>2017</td>\n",
       "      <td>10</td>\n",
       "      <td>16</td>\n",
       "      <td>0</td>\n",
       "      <td>Chrome</td>\n",
       "      <td>0</td>\n",
       "      <td>0</td>\n",
       "    </tr>\n",
       "    <tr>\n",
       "      <th>3</th>\n",
       "      <td>Organic Search</td>\n",
       "      <td>9075655783635761930</td>\n",
       "      <td>1.0</td>\n",
       "      <td>desktop</td>\n",
       "      <td>Windows</td>\n",
       "      <td>Asia</td>\n",
       "      <td>Turkey</td>\n",
       "      <td>NaN</td>\n",
       "      <td>0.0</td>\n",
       "      <td>2.0</td>\n",
       "      <td>...</td>\n",
       "      <td>NaN</td>\n",
       "      <td>NaN</td>\n",
       "      <td>NaN</td>\n",
       "      <td>2017</td>\n",
       "      <td>10</td>\n",
       "      <td>16</td>\n",
       "      <td>0</td>\n",
       "      <td>Chrome</td>\n",
       "      <td>0</td>\n",
       "      <td>0</td>\n",
       "    </tr>\n",
       "    <tr>\n",
       "      <th>4</th>\n",
       "      <td>Organic Search</td>\n",
       "      <td>6960673291025684308</td>\n",
       "      <td>1.0</td>\n",
       "      <td>desktop</td>\n",
       "      <td>Windows</td>\n",
       "      <td>Americas</td>\n",
       "      <td>Mexico</td>\n",
       "      <td>NaN</td>\n",
       "      <td>0.0</td>\n",
       "      <td>2.0</td>\n",
       "      <td>...</td>\n",
       "      <td>NaN</td>\n",
       "      <td>NaN</td>\n",
       "      <td>NaN</td>\n",
       "      <td>2017</td>\n",
       "      <td>10</td>\n",
       "      <td>16</td>\n",
       "      <td>0</td>\n",
       "      <td>Chrome</td>\n",
       "      <td>0</td>\n",
       "      <td>0</td>\n",
       "    </tr>\n",
       "  </tbody>\n",
       "</table>\n",
       "<p>5 rows × 34 columns</p>\n",
       "</div>"
      ],
      "text/plain": [
       "  channelGrouping        fullVisitorId  visitNumber device.deviceCategory  \\\n",
       "0  Organic Search  3162355547410993243          1.0               desktop   \n",
       "1        Referral  8934116514970143966          6.0               desktop   \n",
       "2          Direct  7992466427990357681          1.0                mobile   \n",
       "3  Organic Search  9075655783635761930          1.0               desktop   \n",
       "4  Organic Search  6960673291025684308          1.0               desktop   \n",
       "\n",
       "  device.operatingSystem geoNetwork.continent geoNetwork.country  \\\n",
       "0                Windows               Europe            Germany   \n",
       "1              Chrome OS             Americas      United States   \n",
       "2                Android             Americas      United States   \n",
       "3                Windows                 Asia             Turkey   \n",
       "4                Windows             Americas             Mexico   \n",
       "\n",
       "  geoNetwork.region  totals.bounces  totals.hits      ...        \\\n",
       "0               NaN             1.0          1.0      ...         \n",
       "1        California             0.0          2.0      ...         \n",
       "2               NaN             0.0          2.0      ...         \n",
       "3               NaN             0.0          2.0      ...         \n",
       "4               NaN             0.0          2.0      ...         \n",
       "\n",
       "   contentGroup.contentGroup2  contentGroup.contentGroup3  \\\n",
       "0                        Bags                         NaN   \n",
       "1                         NaN                         NaN   \n",
       "2                         NaN                         NaN   \n",
       "3                         NaN                         NaN   \n",
       "4                         NaN                         NaN   \n",
       "\n",
       "   eventInfo.eventAction  Year  Month  Day  is_holiday device_browser  \\\n",
       "0                    NaN  2017     10   16           0        Firefox   \n",
       "1                    NaN  2017     10   16           0         Chrome   \n",
       "2                    NaN  2017     10   16           0         Chrome   \n",
       "3                    NaN  2017     10   16           0         Chrome   \n",
       "4                    NaN  2017     10   16           0         Chrome   \n",
       "\n",
       "  is_inbasket  is_discountad  \n",
       "0           0              0  \n",
       "1           0              0  \n",
       "2           0              0  \n",
       "3           0              0  \n",
       "4           0              0  \n",
       "\n",
       "[5 rows x 34 columns]"
      ]
     },
     "execution_count": 2,
     "metadata": {},
     "output_type": "execute_result"
    }
   ],
   "source": [
    "train_df = pd.read_csv('Data/train_df.csv')\n",
    "train_df.head()"
   ]
  },
  {
   "cell_type": "code",
   "execution_count": 21,
   "metadata": {},
   "outputs": [],
   "source": [
    "train_df = feature_encode(train_df)"
   ]
  },
  {
   "cell_type": "code",
   "execution_count": 22,
   "metadata": {
    "scrolled": true
   },
   "outputs": [
    {
     "name": "stdout",
     "output_type": "stream",
     "text": [
      "<class 'pandas.core.frame.DataFrame'>\n",
      "RangeIndex: 1099989 entries, 0 to 1099988\n",
      "Data columns (total 34 columns):\n",
      "channelGrouping                                 1099989 non-null int8\n",
      "fullVisitorId                                   1099989 non-null object\n",
      "visitNumber                                     1099989 non-null float32\n",
      "device.deviceCategory                           1099989 non-null int8\n",
      "device.operatingSystem                          1099989 non-null int8\n",
      "geoNetwork.continent                            1099989 non-null int8\n",
      "geoNetwork.country                              1099989 non-null int16\n",
      "geoNetwork.region                               1099989 non-null int16\n",
      "totals.bounces                                  1099989 non-null float32\n",
      "totals.hits                                     1099989 non-null float32\n",
      "totals.newVisits                                1099989 non-null float32\n",
      "totals.pageviews                                1099831 non-null float32\n",
      "totals.sessionQualityDim                        535089 non-null float32\n",
      "totals.timeOnSite                               534879 non-null float32\n",
      "totals.totalTransactionRevenue                  1099989 non-null float64\n",
      "totals.transactionRevenue                       1099989 non-null float64\n",
      "totals.transactions                             1099989 non-null float32\n",
      "trafficSource.adContent                         1099989 non-null int8\n",
      "trafficSource.adwordsClickInfo.adNetworkType    1099989 non-null int8\n",
      "trafficSource.adwordsClickInfo.page             48284 non-null float32\n",
      "trafficSource.adwordsClickInfo.slot             1099989 non-null int8\n",
      "trafficSource.campaign                          1099989 non-null int8\n",
      "trafficSource.keyword                           1099989 non-null int16\n",
      "trafficSource.source                            1099989 non-null int16\n",
      "contentGroup.contentGroup2                      1099989 non-null int8\n",
      "contentGroup.contentGroup3                      1099989 non-null int8\n",
      "eventInfo.eventAction                           1099989 non-null int8\n",
      "Year                                            1099989 non-null int8\n",
      "Month                                           1099989 non-null int8\n",
      "Day                                             1099989 non-null int8\n",
      "is_holiday                                      1099989 non-null int8\n",
      "device_browser                                  1099989 non-null int8\n",
      "is_inbasket                                     1099989 non-null int8\n",
      "is_discountad                                   1099989 non-null int8\n",
      "dtypes: float32(9), float64(2), int16(4), int8(18), object(1)\n",
      "memory usage: 90.2+ MB\n"
     ]
    }
   ],
   "source": [
    "train_df.info()"
   ]
  },
  {
   "cell_type": "code",
   "execution_count": 23,
   "metadata": {},
   "outputs": [
    {
     "name": "stderr",
     "output_type": "stream",
     "text": [
      "C:\\Users\\samarth\\Anaconda3\\lib\\site-packages\\IPython\\core\\interactiveshell.py:2785: DtypeWarning: Columns (1) have mixed types. Specify dtype option on import or set low_memory=False.\n",
      "  interactivity=interactivity, compiler=compiler, result=result)\n"
     ]
    }
   ],
   "source": [
    "val_df = pd.read_csv('Data/val_df.csv')\n",
    "val_df = feature_encode(val_df)"
   ]
  },
  {
   "cell_type": "code",
   "execution_count": 24,
   "metadata": {},
   "outputs": [
    {
     "name": "stderr",
     "output_type": "stream",
     "text": [
      "C:\\Users\\samarth\\Anaconda3\\lib\\site-packages\\IPython\\core\\interactiveshell.py:2785: DtypeWarning: Columns (1) have mixed types. Specify dtype option on import or set low_memory=False.\n",
      "  interactivity=interactivity, compiler=compiler, result=result)\n"
     ]
    }
   ],
   "source": [
    "test_df = pd.read_csv('Data/test_df.csv')\n",
    "test_df = feature_encode(test_df)"
   ]
  },
  {
   "cell_type": "code",
   "execution_count": null,
   "metadata": {},
   "outputs": [],
   "source": []
  },
  {
   "cell_type": "code",
   "execution_count": 25,
   "metadata": {},
   "outputs": [],
   "source": [
    "y_train = np.log1p(train_df[\"totals.transactionRevenue\"].values)\n",
    "X_train = train_df.drop(['fullVisitorId', 'totals.transactionRevenue', 'totals.totalTransactionRevenue', 'totals.transactions'], axis =1)"
   ]
  },
  {
   "cell_type": "code",
   "execution_count": 26,
   "metadata": {},
   "outputs": [],
   "source": [
    "y_val = np.log1p(val_df[\"totals.transactionRevenue\"].values)\n",
    "X_val = val_df.drop(['fullVisitorId', 'totals.transactionRevenue', 'totals.totalTransactionRevenue', 'totals.transactions'], axis =1)"
   ]
  },
  {
   "cell_type": "code",
   "execution_count": 27,
   "metadata": {},
   "outputs": [],
   "source": [
    "y_test = np.log1p(test_df[\"totals.transactionRevenue\"].values)\n",
    "X_test = test_df.drop(['fullVisitorId', 'totals.transactionRevenue', 'totals.totalTransactionRevenue', 'totals.transactions'], axis =1)"
   ]
  },
  {
   "cell_type": "code",
   "execution_count": 28,
   "metadata": {},
   "outputs": [],
   "source": [
    "test_id = test_df[\"fullVisitorId\"].values"
   ]
  },
  {
   "cell_type": "markdown",
   "metadata": {},
   "source": [
    "### LGBM"
   ]
  },
  {
   "cell_type": "code",
   "execution_count": 11,
   "metadata": {},
   "outputs": [],
   "source": [
    "import lightgbm as lgb"
   ]
  },
  {
   "cell_type": "code",
   "execution_count": 14,
   "metadata": {},
   "outputs": [
    {
     "name": "stderr",
     "output_type": "stream",
     "text": [
      "C:\\Users\\samarth\\Anaconda3\\lib\\site-packages\\lightgbm\\basic.py:742: UserWarning: categorical_feature in param dict is overridden.\n",
      "  warnings.warn('categorical_feature in param dict is overridden.')\n"
     ]
    },
    {
     "name": "stdout",
     "output_type": "stream",
     "text": [
      "Training until validation scores don't improve for 100 rounds.\n",
      "[100]\tvalid_0's rmse: 1.48609\n",
      "[200]\tvalid_0's rmse: 1.48531\n",
      "[300]\tvalid_0's rmse: 1.48423\n",
      "Early stopping, best iteration is:\n",
      "[283]\tvalid_0's rmse: 1.48379\n"
     ]
    }
   ],
   "source": [
    "# custom function to run light gbm model\n",
    "\n",
    "def run_lgb(X_train, y_train, X_val, y_val, X_test):\n",
    "    params = {\n",
    "        \"objective\" : \"regression\",\n",
    "        \"metric\" : \"rmse\", \n",
    "        \"num_leaves\" : 30,\n",
    "        \"min_child_samples\" : 100,\n",
    "        \"learning_rate\" : 0.1,\n",
    "        \"bagging_fraction\" : 0.7,\n",
    "        \"feature_fraction\" : 0.5,\n",
    "        \"bagging_frequency\" : 5,\n",
    "        \"bagging_seed\" : 2018,\n",
    "        \"verbosity\" : -1\n",
    "    }\n",
    "    \n",
    "    lgtrain = lgb.Dataset(X_train, label=y_train)\n",
    "    lgval = lgb.Dataset(X_val, label=y_val)\n",
    "    model = lgb.train(params, lgtrain, 1000, valid_sets=[lgval], early_stopping_rounds=100, verbose_eval=100)\n",
    "    \n",
    "    pred_test_y = model.predict(X_test, num_iteration=model.best_iteration)\n",
    "    pred_val_y = model.predict(X_val, num_iteration=model.best_iteration)\n",
    "    return pred_test_y, model, pred_val_y\n",
    "\n",
    "#Training the model \n",
    "\n",
    "pred_test, model, pred_val = run_lgb(X_train, y_train, X_val, y_val, X_test)\n"
   ]
  },
  {
   "cell_type": "code",
   "execution_count": 15,
   "metadata": {},
   "outputs": [
    {
     "name": "stdout",
     "output_type": "stream",
     "text": [
      "1.5224778875337688\n"
     ]
    }
   ],
   "source": [
    "#Validation score\n",
    "\n",
    "from sklearn import metrics\n",
    "pred_val[pred_val<0] = 0\n",
    "val_pred_df = pd.DataFrame({\"fullVisitorId\":val_df[\"fullVisitorId\"].values})\n",
    "val_pred_df[\"transactionRevenue\"] = val_df[\"totals.transactionRevenue\"].values\n",
    "val_pred_df[\"PredictedRevenue\"] = np.expm1(pred_val)\n",
    "val_pred_df = val_pred_df.groupby(\"fullVisitorId\")[\"transactionRevenue\", \"PredictedRevenue\"].sum().reset_index()\n",
    "print(np.sqrt(metrics.mean_squared_error(np.log1p(val_pred_df[\"transactionRevenue\"].values), np.log1p(val_pred_df[\"PredictedRevenue\"].values))))"
   ]
  },
  {
   "cell_type": "code",
   "execution_count": 18,
   "metadata": {},
   "outputs": [],
   "source": [
    "# Predicting on test dataset\n",
    "\n",
    "sub_df = pd.DataFrame({\"fullVisitorId\":test_id})\n",
    "pred_test[pred_test<0] = 0\n",
    "sub_df[\"PredictedLogRevenue\"] = np.expm1(pred_test)\n",
    "sub_df = sub_df.groupby(\"fullVisitorId\")[\"PredictedLogRevenue\"].sum().reset_index()\n",
    "sub_df.columns = [\"fullVisitorId\", \"PredictedLogRevenue\"]\n",
    "sub_df[\"PredictedLogRevenue\"] = np.log1p(sub_df[\"PredictedLogRevenue\"])\n",
    "sub_df.to_csv(\"baseline_lgb.csv\", index=False)"
   ]
  },
  {
   "cell_type": "code",
   "execution_count": 19,
   "metadata": {},
   "outputs": [
    {
     "data": {
      "text/html": [
       "<div>\n",
       "<style scoped>\n",
       "    .dataframe tbody tr th:only-of-type {\n",
       "        vertical-align: middle;\n",
       "    }\n",
       "\n",
       "    .dataframe tbody tr th {\n",
       "        vertical-align: top;\n",
       "    }\n",
       "\n",
       "    .dataframe thead th {\n",
       "        text-align: right;\n",
       "    }\n",
       "</style>\n",
       "<table border=\"1\" class=\"dataframe\">\n",
       "  <thead>\n",
       "    <tr style=\"text-align: right;\">\n",
       "      <th></th>\n",
       "      <th>fullVisitorId</th>\n",
       "      <th>PredictedLogRevenue</th>\n",
       "    </tr>\n",
       "  </thead>\n",
       "  <tbody>\n",
       "    <tr>\n",
       "      <th>0</th>\n",
       "      <td>3038793126460</td>\n",
       "      <td>0.000000</td>\n",
       "    </tr>\n",
       "    <tr>\n",
       "      <th>1</th>\n",
       "      <td>13360843297579</td>\n",
       "      <td>0.008963</td>\n",
       "    </tr>\n",
       "    <tr>\n",
       "      <th>2</th>\n",
       "      <td>25784765293776</td>\n",
       "      <td>0.000000</td>\n",
       "    </tr>\n",
       "    <tr>\n",
       "      <th>3</th>\n",
       "      <td>47810105303746</td>\n",
       "      <td>0.000000</td>\n",
       "    </tr>\n",
       "    <tr>\n",
       "      <th>4</th>\n",
       "      <td>52246474382344</td>\n",
       "      <td>0.000748</td>\n",
       "    </tr>\n",
       "  </tbody>\n",
       "</table>\n",
       "</div>"
      ],
      "text/plain": [
       "    fullVisitorId  PredictedLogRevenue\n",
       "0   3038793126460             0.000000\n",
       "1  13360843297579             0.008963\n",
       "2  25784765293776             0.000000\n",
       "3  47810105303746             0.000000\n",
       "4  52246474382344             0.000748"
      ]
     },
     "execution_count": 19,
     "metadata": {},
     "output_type": "execute_result"
    }
   ],
   "source": [
    "sub_df.head()"
   ]
  },
  {
   "cell_type": "code",
   "execution_count": 20,
   "metadata": {},
   "outputs": [
    {
     "data": {
      "image/png": "[encoded data removed]",
      "text/plain": [
       "<Figure size 864x1296 with 1 Axes>"
      ]
     },
     "metadata": {
      "needs_background": "light"
     },
     "output_type": "display_data"
    }
   ],
   "source": [
    "# Important features of lgbm\n",
    "\n",
    "fig, ax = plt.subplots(figsize=(12,18))\n",
    "lgb.plot_importance(model, max_num_features=50, height=0.8, ax=ax)\n",
    "ax.grid(False)\n",
    "plt.title(\"LightGBM - Feature Importance\", fontsize=15)\n",
    "plt.show()"
   ]
  },
  {
   "cell_type": "markdown",
   "metadata": {},
   "source": [
    "### xgboost"
   ]
  },
  {
   "cell_type": "code",
   "execution_count": null,
   "metadata": {},
   "outputs": [],
   "source": []
  },
  {
   "cell_type": "code",
   "execution_count": 40,
   "metadata": {},
   "outputs": [],
   "source": [
    "def rmse(y_true, y_pred):\n",
    "    return round(np.sqrt(metrics.mean_squared_error(y_true, y_pred)), 5)"
   ]
  },
  {
   "cell_type": "code",
   "execution_count": 41,
   "metadata": {},
   "outputs": [],
   "source": [
    "import xgboost as xgb"
   ]
  },
  {
   "cell_type": "code",
   "execution_count": 42,
   "metadata": {},
   "outputs": [],
   "source": [
    "def run_xgb(X_train, y_train, X_val, y_val, X_test):\n",
    "    params = {'objective': 'reg:linear',\n",
    "              'eval_metric': 'rmse',\n",
    "              'eta': 0.001,\n",
    "              'max_depth': 10,\n",
    "              'subsample': 0.6,\n",
    "              'colsample_bytree': 0.6,\n",
    "              'alpha':0.001,\n",
    "              'random_state': 42,\n",
    "              'silent': True}\n",
    "\n",
    "    xgb_train_data = xgb.DMatrix(X_train, y_train)\n",
    "    xgb_val_data = xgb.DMatrix(X_val, y_val)\n",
    "    xgb_submit_data = xgb.DMatrix(X_test)\n",
    "\n",
    "    model = xgb.train(params, xgb_train_data, \n",
    "                      num_boost_round=2000, \n",
    "                      evals= [(xgb_train_data, 'train'), (xgb_val_data, 'valid')],\n",
    "                      early_stopping_rounds=100, \n",
    "                      verbose_eval=500\n",
    "                     )\n",
    "\n",
    "    y_pred_train = model.predict(xgb_train_data, ntree_limit=model.best_ntree_limit)\n",
    "    y_pred_val = model.predict(xgb_val_data, ntree_limit=model.best_ntree_limit)\n",
    "    y_pred_submit = model.predict(xgb_submit_data, ntree_limit=model.best_ntree_limit)\n",
    "\n",
    "    print(f\"XGB : RMSE val: {rmse(y_val, y_pred_val)}  - RMSE train: {rmse(y_train, y_pred_train)}\")\n",
    "    return y_pred_submit, model"
   ]
  },
  {
   "cell_type": "code",
   "execution_count": 43,
   "metadata": {},
   "outputs": [
    {
     "name": "stdout",
     "output_type": "stream",
     "text": [
      "[0]\ttrain-rmse:1.86358\tvalid-rmse:1.89084\n",
      "Multiple eval metrics have been passed: 'valid-rmse' will be used for early stopping.\n",
      "\n",
      "Will train until valid-rmse hasn't improved in 100 rounds.\n",
      "[500]\ttrain-rmse:1.6441\tvalid-rmse:1.74728\n",
      "[1000]\ttrain-rmse:1.52983\tvalid-rmse:1.67604\n",
      "[1500]\ttrain-rmse:1.46325\tvalid-rmse:1.63704\n",
      "[1999]\ttrain-rmse:1.42257\tvalid-rmse:1.61346\n",
      "XGB : RMSE val: 1.61347  - RMSE train: 1.42257\n"
     ]
    }
   ],
   "source": [
    "xgb_preds, xgb_model = run_xgb(X_train, y_train, X_val, y_val, X_test)"
   ]
  },
  {
   "cell_type": "markdown",
   "metadata": {},
   "source": [
    "### CatBoost"
   ]
  },
  {
   "cell_type": "code",
   "execution_count": 29,
   "metadata": {},
   "outputs": [],
   "source": [
    "from catboost import CatBoostRegressor"
   ]
  },
  {
   "cell_type": "code",
   "execution_count": 38,
   "metadata": {},
   "outputs": [],
   "source": [
    "def run_catboost(X_train, y_train, X_val, y_val, X_test):\n",
    "    model = CatBoostRegressor(iterations=1000,\n",
    "                             learning_rate=0.05,\n",
    "                             depth=10,\n",
    "                             eval_metric='RMSE',\n",
    "                             random_seed = 42,\n",
    "                             bagging_temperature = 0.2,\n",
    "                             od_type='Iter',\n",
    "                             metric_period = 50,\n",
    "                             od_wait=20)\n",
    "    model.fit(X_train, y_train,\n",
    "              eval_set=(X_val, y_val),\n",
    "              use_best_model=True)\n",
    "    \n",
    "    y_pred_train = model.predict(X_train)\n",
    "    y_pred_val = model.predict(X_val)\n",
    "    y_pred_submit = model.predict(X_test)\n",
    "\n",
    "    print(f\"CatB: RMSE val: {rmse(y_val, y_pred_val)}  - RMSE train: {rmse(y_train, y_pred_train)}\")\n",
    "    return y_pred_submit, model"
   ]
  },
  {
   "cell_type": "code",
   "execution_count": 39,
   "metadata": {},
   "outputs": [
    {
     "name": "stderr",
     "output_type": "stream",
     "text": [
      "Warning: Overfitting detector is active, thus evaluation metric is calculated on every iteration. 'metric_period' is ignored for evaluation metric.\n"
     ]
    },
    {
     "name": "stdout",
     "output_type": "stream",
     "text": [
      "0:\tlearn: 1.8197827\ttest: 1.8701920\tbest: 1.8701920 (0)\ttotal: 664ms\tremaining: 11m 3s\n",
      "50:\tlearn: 1.4870562\ttest: 1.6703879\tbest: 1.6703879 (50)\ttotal: 35.1s\tremaining: 10m 52s\n",
      "100:\tlearn: 1.4578518\ttest: 1.6339805\tbest: 1.6339805 (100)\ttotal: 1m 9s\tremaining: 10m 16s\n",
      "150:\tlearn: 1.4388722\ttest: 1.6231949\tbest: 1.6231949 (150)\ttotal: 1m 43s\tremaining: 9m 39s\n",
      "200:\tlearn: 1.4225466\ttest: 1.6178963\tbest: 1.6178963 (200)\ttotal: 2m 16s\tremaining: 9m 3s\n",
      "250:\tlearn: 1.4086797\ttest: 1.6132063\tbest: 1.6132063 (250)\ttotal: 2m 54s\tremaining: 8m 40s\n",
      "300:\tlearn: 1.3954613\ttest: 1.6094443\tbest: 1.6094443 (300)\ttotal: 3m 31s\tremaining: 8m 11s\n",
      "350:\tlearn: 1.3839433\ttest: 1.6078759\tbest: 1.6078759 (350)\ttotal: 4m 5s\tremaining: 7m 34s\n",
      "400:\tlearn: 1.3734645\ttest: 1.6058283\tbest: 1.6057459 (399)\ttotal: 4m 40s\tremaining: 6m 59s\n",
      "450:\tlearn: 1.3628215\ttest: 1.6034163\tbest: 1.6034163 (450)\ttotal: 5m 15s\tremaining: 6m 23s\n",
      "500:\tlearn: 1.3522289\ttest: 1.6023305\tbest: 1.6023086 (499)\ttotal: 5m 50s\tremaining: 5m 48s\n",
      "550:\tlearn: 1.3424682\ttest: 1.6017153\tbest: 1.6017131 (543)\ttotal: 6m 26s\tremaining: 5m 15s\n",
      "600:\tlearn: 1.3328017\ttest: 1.6010025\tbest: 1.6008588 (594)\ttotal: 7m 3s\tremaining: 4m 41s\n",
      "650:\tlearn: 1.3221216\ttest: 1.6004888\tbest: 1.6003904 (649)\ttotal: 7m 39s\tremaining: 4m 6s\n",
      "700:\tlearn: 1.3121631\ttest: 1.5996680\tbest: 1.5996680 (700)\ttotal: 8m 15s\tremaining: 3m 31s\n",
      "750:\tlearn: 1.3035902\ttest: 1.5988966\tbest: 1.5988527 (748)\ttotal: 8m 52s\tremaining: 2m 56s\n",
      "800:\tlearn: 1.2938293\ttest: 1.5985378\tbest: 1.5984729 (786)\ttotal: 9m 29s\tremaining: 2m 21s\n",
      "Stopped by overfitting detector  (20 iterations wait)\n",
      "\n",
      "bestTest = 1.598135674\n",
      "bestIteration = 823\n",
      "\n",
      "Shrink model to first 824 iterations.\n",
      "CatB: RMSE val: 1.59814  - RMSE train: 1.29041\n"
     ]
    }
   ],
   "source": [
    "cat_preds, cat_model = run_catboost(X_train, y_train, X_val, y_val,  X_test)"
   ]
  },
  {
   "cell_type": "code",
   "execution_count": 36,
   "metadata": {},
   "outputs": [],
   "source": [
    "from sklearn import metrics"
   ]
  }
 ],
 "metadata": {
  "kernelspec": {
   "display_name": "Python 3",
   "language": "python",
   "name": "python3"
  },
  "language_info": {
   "codemirror_mode": {
    "name": "ipython",
    "version": 3
   },
   "file_extension": ".py",
   "mimetype": "text/x-python",
   "name": "python",
   "nbconvert_exporter": "python",
   "pygments_lexer": "ipython3",
   "version": "3.7.0"
  }
 },
 "nbformat": 4,
 "nbformat_minor": 2
}
